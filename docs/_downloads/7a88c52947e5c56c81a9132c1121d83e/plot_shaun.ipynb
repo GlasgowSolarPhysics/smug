{
  "cells": [
    {
      "cell_type": "code",
      "execution_count": null,
      "metadata": {
        "collapsed": false
      },
      "outputs": [],
      "source": [
        "%matplotlib inline"
      ]
    },
    {
      "cell_type": "markdown",
      "metadata": {},
      "source": [
        "\n# Simple Shaun Example\nA simple example showing how to apply Shaun to correct for atmospheric seeing in a region of an SST/CRISP image.\n"
      ]
    },
    {
      "cell_type": "code",
      "execution_count": null,
      "metadata": {
        "collapsed": false
      },
      "outputs": [],
      "source": [
        "import matplotlib.pyplot as plt\nimport numpy as np\nfrom crispy import CRISP\nfrom smug.shaun_inference import pretrained_shaun_corrector"
      ]
    },
    {
      "cell_type": "markdown",
      "metadata": {},
      "source": [
        "Load data, rotate it to fill the frame, and select sub-region to work on.\n\n"
      ]
    },
    {
      "cell_type": "code",
      "execution_count": null,
      "metadata": {
        "collapsed": false
      },
      "outputs": [],
      "source": [
        "data = CRISP(\"crisp_l2_20140906_152724_6563_r00447_3wavelengths.fits\")\ndata.rotate_crop()\n\ncrisp_sub_region = data[:, 200:500, 200:500]"
      ]
    },
    {
      "cell_type": "markdown",
      "metadata": {},
      "source": [
        "Construct Shaun model and apply to image.\n\n"
      ]
    },
    {
      "cell_type": "code",
      "execution_count": null,
      "metadata": {
        "collapsed": false
      },
      "outputs": [],
      "source": [
        "corrector = pretrained_shaun_corrector(\"Halpha\")\nshaun_im = corrector.correct_image(crisp_sub_region.data)"
      ]
    },
    {
      "cell_type": "markdown",
      "metadata": {},
      "source": [
        "Compare line-core corrected image to one with original atmospheric seeing.\n\n"
      ]
    },
    {
      "cell_type": "code",
      "execution_count": null,
      "metadata": {
        "collapsed": false
      },
      "outputs": [],
      "source": [
        "fig, ax = plt.subplots(1, 2)\nax[0].imshow(crisp_sub_region[1].data, cmap=\"Greys_r\")\nax[0].set_title(\"Original Data\")\nax[1].imshow(shaun_im[1], cmap=\"Greys_r\")\nax[1].set_title(\"Shaun Corrected\")"
      ]
    }
  ],
  "metadata": {
    "kernelspec": {
      "display_name": "Python 3",
      "language": "python",
      "name": "python3"
    },
    "language_info": {
      "codemirror_mode": {
        "name": "ipython",
        "version": 3
      },
      "file_extension": ".py",
      "mimetype": "text/x-python",
      "name": "python",
      "nbconvert_exporter": "python",
      "pygments_lexer": "ipython3",
      "version": "3.9.13"
    }
  },
  "nbformat": 4,
  "nbformat_minor": 0
}
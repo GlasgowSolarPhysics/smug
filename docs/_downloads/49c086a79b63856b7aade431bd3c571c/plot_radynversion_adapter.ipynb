{
  "cells": [
    {
      "cell_type": "code",
      "execution_count": null,
      "metadata": {
        "collapsed": false
      },
      "outputs": [],
      "source": [
        "%matplotlib inline"
      ]
    },
    {
      "cell_type": "markdown",
      "metadata": {},
      "source": [
        "\n# Simple Radynversion Example\n\nThe following illustrates configuring and using Radynversion with some small SST/CRISP images.\nTo load this data we use the [crispy package](https://github.com/bionictoucan/crispy).\n"
      ]
    },
    {
      "cell_type": "code",
      "execution_count": null,
      "metadata": {
        "collapsed": false
      },
      "outputs": [],
      "source": [
        "from crispy import CRISPSequence\nfrom crispy.utils import CRISP_sequence_constructor\nfrom matplotlib import pyplot as plt\nfrom smug.radynversion_adapter import RadynversionAdapter\nfrom smug.radynversion_model import model_params, pretrained_radynversion"
      ]
    },
    {
      "cell_type": "markdown",
      "metadata": {},
      "source": [
        "Plot the Halpha intensity map (see crispy's documentation for how this is used.).\n\n"
      ]
    },
    {
      "cell_type": "code",
      "execution_count": null,
      "metadata": {
        "collapsed": false
      },
      "outputs": [],
      "source": [
        "files = [\n    \"../tests/mini_crisp_l2_20140906_152724_6563_r00459.fits\",\n    \"../tests/mini_crisp_l2_20140906_152724_8542_r00459.fits\",\n]\nims = CRISPSequence(CRISP_sequence_constructor(files))\nims.list[0][7].intensity_map()\nplt.show()"
      ]
    },
    {
      "cell_type": "markdown",
      "metadata": {},
      "source": [
        "Configure model, and Adapter class containing utilities to run the model and\ncorrectly transform the parameters.\n\n"
      ]
    },
    {
      "cell_type": "code",
      "execution_count": null,
      "metadata": {
        "collapsed": false
      },
      "outputs": [],
      "source": [
        "radynversion_version = \"1.1.1\"\nad = RadynversionAdapter(\n    model=pretrained_radynversion(version=radynversion_version),\n    **model_params[radynversion_version]\n)"
      ]
    },
    {
      "cell_type": "markdown",
      "metadata": {},
      "source": [
        "Run the inversion for a small slice of the data.\n\n"
      ]
    },
    {
      "cell_type": "code",
      "execution_count": null,
      "metadata": {
        "collapsed": false
      },
      "outputs": [],
      "source": [
        "inv = ad.invert_dual_cubes(ims[:, :1, :3])"
      ]
    },
    {
      "cell_type": "markdown",
      "metadata": {},
      "source": [
        "Display the inversion results for a pixel\n\n"
      ]
    },
    {
      "cell_type": "code",
      "execution_count": null,
      "metadata": {
        "collapsed": false
      },
      "outputs": [],
      "source": [
        "inv[:, 0, 1].plot_params(eb=True)\nplt.show()"
      ]
    }
  ],
  "metadata": {
    "kernelspec": {
      "display_name": "Python 3",
      "language": "python",
      "name": "python3"
    },
    "language_info": {
      "codemirror_mode": {
        "name": "ipython",
        "version": 3
      },
      "file_extension": ".py",
      "mimetype": "text/x-python",
      "name": "python",
      "nbconvert_exporter": "python",
      "pygments_lexer": "ipython3",
      "version": "3.9.13"
    }
  },
  "nbformat": 4,
  "nbformat_minor": 0
}
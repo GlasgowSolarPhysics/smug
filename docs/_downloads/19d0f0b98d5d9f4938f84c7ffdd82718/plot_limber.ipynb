{
  "cells": [
    {
      "cell_type": "code",
      "execution_count": null,
      "metadata": {
        "collapsed": false
      },
      "outputs": [],
      "source": [
        "%matplotlib inline"
      ]
    },
    {
      "cell_type": "markdown",
      "metadata": {},
      "source": [
        "\n# Simple Limber Example\nA simple example showing how to apply the Limber model to correct for Limb darkening in a small SST/CRISP image.\nThis data is loaded using `astropy.fits`, but crispy could be used too.\n"
      ]
    },
    {
      "cell_type": "code",
      "execution_count": null,
      "metadata": {
        "collapsed": false
      },
      "outputs": [],
      "source": [
        "import matplotlib.pyplot as plt\nimport numpy as np\nfrom astropy.io import fits\nfrom smug.limber_adapter import LimberAdapter\nfrom smug.limber_model import model_params, pretrained_limber"
      ]
    },
    {
      "cell_type": "markdown",
      "metadata": {},
      "source": [
        "Load the Ca 8542 Angstrom data\n\n"
      ]
    },
    {
      "cell_type": "code",
      "execution_count": null,
      "metadata": {
        "collapsed": false
      },
      "outputs": [],
      "source": [
        "im = fits.open(\"../tests/mini_crisp_l2_20140906_152724_8542_r00459.fits\")"
      ]
    },
    {
      "cell_type": "markdown",
      "metadata": {},
      "source": [
        "Load pretrained limber network\n\n"
      ]
    },
    {
      "cell_type": "code",
      "execution_count": null,
      "metadata": {
        "collapsed": false
      },
      "outputs": [],
      "source": [
        "line = \"CaII8542\"\nmodel = pretrained_limber(line)"
      ]
    },
    {
      "cell_type": "markdown",
      "metadata": {},
      "source": [
        "Compute wavelength grid used in Limber model from provided data, and construct Adapter.\n\n"
      ]
    },
    {
      "cell_type": "code",
      "execution_count": null,
      "metadata": {
        "collapsed": false
      },
      "outputs": [],
      "source": [
        "grid = np.linspace(\n    -model_params[line][\"half_width\"],\n    model_params[line][\"half_width\"],\n    model.size - 1,\n)\nlimber_ca = LimberAdapter(model, grid)"
      ]
    },
    {
      "cell_type": "markdown",
      "metadata": {},
      "source": [
        "Load wavelengths present in data file.\n\n"
      ]
    },
    {
      "cell_type": "code",
      "execution_count": null,
      "metadata": {
        "collapsed": false
      },
      "outputs": [],
      "source": [
        "central_wavelength = np.median(im[1].data)\ndata_wavelength = im[1].data - central_wavelength"
      ]
    },
    {
      "cell_type": "markdown",
      "metadata": {},
      "source": [
        "Run the network to reproject the data\n\n"
      ]
    },
    {
      "cell_type": "code",
      "execution_count": null,
      "metadata": {
        "collapsed": false
      },
      "outputs": [],
      "source": [
        "out = limber_ca.reproject_data(\n    im[0].data.astype(\"<f4\"),\n    data_wavelength,\n    mu_observed=0.565,\n    reconstruct_original_shape=False,\n)"
      ]
    },
    {
      "cell_type": "markdown",
      "metadata": {},
      "source": [
        "Plot the output for a pixel, note the swapped indexing as we set `reconstruct_original_shape` to False.\n\n"
      ]
    },
    {
      "cell_type": "code",
      "execution_count": null,
      "metadata": {
        "collapsed": false
      },
      "outputs": [],
      "source": [
        "idx = 8\na = im[0].data.astype(\"<f4\")\nb = out\nplt.plot(data_wavelength, a[:, idx, idx], label=r\"$\\mu=0.565$\")\nplt.plot(grid, b[idx, idx, 1:], label=r\"$\\mu=1.0$ (predicted)\")\nplt.xlabel(r\"$\\Delta\\lambda$ [$\\AA$]\")\nplt.ylabel(\"Intensity [DN]\")\nplt.title(\"Limber applied to Ca \u026a\u026a 8542 $\\AA$\")\nplt.legend()\nplt.show()"
      ]
    }
  ],
  "metadata": {
    "kernelspec": {
      "display_name": "Python 3",
      "language": "python",
      "name": "python3"
    },
    "language_info": {
      "codemirror_mode": {
        "name": "ipython",
        "version": 3
      },
      "file_extension": ".py",
      "mimetype": "text/x-python",
      "name": "python",
      "nbconvert_exporter": "python",
      "pygments_lexer": "ipython3",
      "version": "3.9.13"
    }
  },
  "nbformat": 4,
  "nbformat_minor": 0
}